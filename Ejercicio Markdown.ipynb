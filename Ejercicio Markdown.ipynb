{
 "cells": [
  {
   "cell_type": "markdown",
   "metadata": {},
   "source": [
    "# Tutorial de MarkDown en RStudio\n",
    "\n",
    "Este tutorial tiene como objetivo explicar la manera de crear documentos con Markdown en la herramienta RStudio. Los documentos resultantes pueden visualizarse como:\n",
    "<ul>\n",
    "    <li>HTML</li>\n",
    "    <li>Word</li>\n",
    "    <li>PDF</li>\n",
    "    <li>Presentación</li>\n",
    " </ul>\n",
    "\n",
    "En este tutorial se abarcará la generación de un PDF, para lo cual se deben seguir los siguientes pasos:  \n",
    "\n",
    "**1. Se abre la aplicación RStudio**\n",
    "![alt text](rstudio.jpg \"RStudio\") \n",
    "\n",
    "**2. Se crea un nuevo archivo de \"R Markdown **\n",
    "![alt text](Paso 1.png \"RStudio\")\n",
    "\n",
    "**3. Seleccionar PDF como formato de salida **\n",
    "![alt text](Paso 2.png \"RStudio\")\n",
    "\n",
    "**4. Editar el código del archivo generado, incluyendo los elementos que se desee **\n",
    "![alt text](Paso 3.png \"RStudio\")\n",
    "\n",
    "**5. Dar click en Knit PDF como muestra la imagen (la primera vez puede solicitar guardar el documento) **\n",
    "![alt text](Paso 4.png \"RStudio\")\n",
    "\n",
    "**6. Puede visualizar el PDF generado automáticamente **\n",
    "![alt text](Paso 5.png \"Archivo PDF resultante\")"
   ]
  },
  {
   "cell_type": "code",
   "execution_count": null,
   "metadata": {
    "collapsed": true
   },
   "outputs": [],
   "source": []
  }
 ],
 "metadata": {
  "kernelspec": {
   "display_name": "Python 3",
   "language": "python",
   "name": "python3"
  },
  "language_info": {
   "codemirror_mode": {
    "name": "ipython",
    "version": 3
   },
   "file_extension": ".py",
   "mimetype": "text/x-python",
   "name": "python",
   "nbconvert_exporter": "python",
   "pygments_lexer": "ipython3",
   "version": "3.5.1"
  }
 },
 "nbformat": 4,
 "nbformat_minor": 0
}
